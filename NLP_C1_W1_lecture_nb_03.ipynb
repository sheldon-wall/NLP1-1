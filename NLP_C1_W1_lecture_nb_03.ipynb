{
 "cells": [
  {
   "cell_type": "code",
   "execution_count": 2,
   "metadata": {
    "collapsed": true,
    "pycharm": {
     "is_executing": false
    }
   },
   "outputs": [],
   "source": [
    "import nltk                         # NLP toolbox\n",
    "from os import getcwd\n",
    "import pandas as pd                 # Library for Dataframes \n",
    "from nltk.corpus import twitter_samples \n",
    "import matplotlib.pyplot as plt     # Library for visualization\n",
    "import numpy as np                  # Library for math functions\n",
    "\n",
    "from utils import process_tweet, build_freqs # Our functions for NLP"
   ]
  },
  {
   "cell_type": "code",
   "execution_count": 14,
   "outputs": [
    {
     "name": "stdout",
     "text": [
      "Number of tweets:  8000\n"
     ],
     "output_type": "stream"
    }
   ],
   "source": [
    "# load the NLTK sample dataset - splitting training as 4000 and testing as 1000\n",
    "\n",
    "# select the set of positive and negative tweets\n",
    "all_positive_tweets = twitter_samples.strings('positive_tweets.json')\n",
    "all_negative_tweets = twitter_samples.strings('negative_tweets.json')\n",
    "\n",
    "# split the data into two pieces, one for training and one for testing (validation set) \n",
    "train_pos  = all_positive_tweets[:4000]\n",
    "train_neg  = all_negative_tweets[:4000]\n",
    "\n",
    "train_x = train_pos + train_neg \n",
    "\n",
    "print(\"Number of tweets: \", len(train_x))"
   ],
   "metadata": {
    "collapsed": false,
    "pycharm": {
     "name": "#%%\n",
     "is_executing": false
    }
   }
  },
  {
   "cell_type": "code",
   "execution_count": 26,
   "outputs": [
    {
     "data": {
      "text/plain": "     bias positive negative\n0       1     3020       61\n1       1     3573      444\n2       1     3005      115\n3       1     2862        4\n4       1     3119      225\n...   ...      ...      ...\n7995    1       29     3706\n7996    1       62      323\n7997    1      144      783\n7998    1      205     3890\n7999    1      189     3974\n\n[8000 rows x 3 columns]",
      "text/html": "<div>\n<style scoped>\n    .dataframe tbody tr th:only-of-type {\n        vertical-align: middle;\n    }\n\n    .dataframe tbody tr th {\n        vertical-align: top;\n    }\n\n    .dataframe thead th {\n        text-align: right;\n    }\n</style>\n<table border=\"1\" class=\"dataframe\">\n  <thead>\n    <tr style=\"text-align: right;\">\n      <th></th>\n      <th>bias</th>\n      <th>positive</th>\n      <th>negative</th>\n    </tr>\n  </thead>\n  <tbody>\n    <tr>\n      <th>0</th>\n      <td>1</td>\n      <td>3020</td>\n      <td>61</td>\n    </tr>\n    <tr>\n      <th>1</th>\n      <td>1</td>\n      <td>3573</td>\n      <td>444</td>\n    </tr>\n    <tr>\n      <th>2</th>\n      <td>1</td>\n      <td>3005</td>\n      <td>115</td>\n    </tr>\n    <tr>\n      <th>3</th>\n      <td>1</td>\n      <td>2862</td>\n      <td>4</td>\n    </tr>\n    <tr>\n      <th>4</th>\n      <td>1</td>\n      <td>3119</td>\n      <td>225</td>\n    </tr>\n    <tr>\n      <th>...</th>\n      <td>...</td>\n      <td>...</td>\n      <td>...</td>\n    </tr>\n    <tr>\n      <th>7995</th>\n      <td>1</td>\n      <td>29</td>\n      <td>3706</td>\n    </tr>\n    <tr>\n      <th>7996</th>\n      <td>1</td>\n      <td>62</td>\n      <td>323</td>\n    </tr>\n    <tr>\n      <th>7997</th>\n      <td>1</td>\n      <td>144</td>\n      <td>783</td>\n    </tr>\n    <tr>\n      <th>7998</th>\n      <td>1</td>\n      <td>205</td>\n      <td>3890</td>\n    </tr>\n    <tr>\n      <th>7999</th>\n      <td>1</td>\n      <td>189</td>\n      <td>3974</td>\n    </tr>\n  </tbody>\n</table>\n<p>8000 rows × 3 columns</p>\n</div>"
     },
     "metadata": {},
     "output_type": "execute_result",
     "execution_count": 26
    }
   ],
   "source": [
    "# Extract the features from all the tweets and store the resultant positive and \n",
    "# negative sentiment (retrieved from dictionary lookup) in a dataframe\n",
    "\n",
    "tweets = train_pos + train_neg\n",
    "labels = np.append(np.ones((len(train_pos),1)), np.zeros((len(train_neg),1)), axis = 0)\n",
    "\n",
    "freqs = build_freqs(tweets, labels)\n",
    "\n",
    "# For each of the tweets - extract the features\n",
    "\n",
    "# create a dataframe to hold the extracted features\n",
    "data = pd.DataFrame(columns = ['bias', 'positive', 'negative'])\n",
    "tweets = train_pos + train_neg \n",
    "\n",
    "debugon = 0\n",
    "\n",
    "# Go through all the words in each tweet                \n",
    "for tweet in tweets:\n",
    "\n",
    "    # initialize positive and negative counts\n",
    "    pos = 0\n",
    "    neg = 0\n",
    "    \n",
    "    if (debugon == 1):\n",
    "        print(tweet)\n",
    "    \n",
    "    # go through all the words in a tweet and accumulate pos and neg\n",
    "    for word in process_tweet(tweet):\n",
    "\n",
    "        # retrieve number of positive counts\n",
    "        if (word, 1) in freqs:\n",
    "            pos = pos + freqs[(word, 1)]\n",
    "        \n",
    "        # retrieve number of negative counts\n",
    "        if (word, 0) in freqs:\n",
    "            neg = neg + freqs[(word, 0)]\n",
    "\n",
    "        if (debugon == 1):\n",
    "            print(word, pos, neg)\n",
    "        \n",
    "    # append the word counts to the table\n",
    "    df2 = {'bias':1, 'positive':pos, 'negative':neg}\n",
    "    data = data.append(df2, ignore_index=True)\n",
    "    \n",
    "data\n",
    "\n",
    "#process_tweet(tweets[0])"
   ],
   "metadata": {
    "collapsed": false,
    "pycharm": {
     "name": "#%%\n",
     "is_executing": false
    }
   }
  },
  {
   "cell_type": "code",
   "execution_count": 29,
   "outputs": [
    {
     "name": "stdout",
     "text": [
      "(8000, 3)\n[[1 3020 61]\n [1 3573 444]\n [1 3005 115]\n ...\n [1 144 783]\n [1 205 3890]\n [1 189 3974]]\n[[1.]\n [1.]\n [1.]\n ...\n [0.]\n [0.]\n [0.]]\n"
     ],
     "output_type": "stream"
    }
   ],
   "source": [
    "X = data[['bias', 'positive', 'negative']].values\n",
    "Y = labels.\n",
    "\n",
    "print(X.shape) # Print the shape of the X part\n",
    "print(X) # Print some rows of X\n",
    "\n",
    "print(Y)"
   ],
   "metadata": {
    "collapsed": false,
    "pycharm": {
     "name": "#%%\n",
     "is_executing": false
    }
   }
  },
  {
   "cell_type": "code",
   "execution_count": null,
   "outputs": [],
   "source": [
    "theta = [7e-08, 0.0005239, -0.00055517]\n",
    "\n"
   ],
   "metadata": {
    "collapsed": false,
    "pycharm": {
     "name": "#%%\n"
    }
   }
  }
 ],
 "metadata": {
  "language_info": {
   "codemirror_mode": {
    "name": "ipython",
    "version": 2
   },
   "file_extension": ".py",
   "mimetype": "text/x-python",
   "name": "python",
   "nbconvert_exporter": "python",
   "pygments_lexer": "ipython2",
   "version": "2.7.6"
  },
  "kernelspec": {
   "name": "python3",
   "language": "python",
   "display_name": "Python 3"
  },
  "pycharm": {
   "stem_cell": {
    "cell_type": "raw",
    "source": [],
    "metadata": {
     "collapsed": false
    }
   }
  }
 },
 "nbformat": 4,
 "nbformat_minor": 0
}